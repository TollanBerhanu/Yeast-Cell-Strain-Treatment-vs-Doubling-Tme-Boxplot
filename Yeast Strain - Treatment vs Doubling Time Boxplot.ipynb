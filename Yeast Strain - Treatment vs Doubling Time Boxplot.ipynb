{
 "cells": [
  {
   "cell_type": "markdown",
   "id": "9e164b27",
   "metadata": {},
   "source": [
    "### Data Analysis of Yeast Treatment Experiments on Different Strains"
   ]
  },
  {
   "cell_type": "markdown",
   "id": "7adda398",
   "metadata": {},
   "source": [
    "*This notebook examines the dataset from the Yeast treatment experiment and creates boxplots to illustrate the relationship between the treatment given to the yeast cells and the inflection point in their doubling time.*"
   ]
  },
  {
   "cell_type": "markdown",
   "id": "e0658930",
   "metadata": {},
   "source": [
    "First lets import all required libraries throughout this notebook. These include libraries for structuring the data and drawing boxplots."
   ]
  },
  {
   "cell_type": "code",
   "execution_count": 2,
   "id": "56aa59ef",
   "metadata": {},
   "outputs": [],
   "source": [
    "import pandas as pd\n",
    "import numpy as np\n",
    "\n",
    "import matplotlib.pyplot as plt\n",
    "from matplotlib.patches import Polygon"
   ]
  },
  {
   "cell_type": "markdown",
   "id": "b4cf9d6f",
   "metadata": {},
   "source": [
    "Import labels for certain columns of the dataset. These columns will include Doubling time, Yeast strain and Treatment type"
   ]
  },
  {
   "cell_type": "code",
   "execution_count": 3,
   "id": "2bc43755",
   "metadata": {},
   "outputs": [
    {
     "name": "stdout",
     "output_type": "stream",
     "text": [
      "(2840, 3)\n"
     ]
    },
    {
     "data": {
      "text/html": [
       "<div>\n",
       "<style scoped>\n",
       "    .dataframe tbody tr th:only-of-type {\n",
       "        vertical-align: middle;\n",
       "    }\n",
       "\n",
       "    .dataframe tbody tr th {\n",
       "        vertical-align: top;\n",
       "    }\n",
       "\n",
       "    .dataframe thead th {\n",
       "        text-align: right;\n",
       "    }\n",
       "</style>\n",
       "<table border=\"1\" class=\"dataframe\">\n",
       "  <thead>\n",
       "    <tr style=\"text-align: right;\">\n",
       "      <th></th>\n",
       "      <th>DT inflection</th>\n",
       "      <th>Strain</th>\n",
       "      <th>Treatment</th>\n",
       "    </tr>\n",
       "  </thead>\n",
       "  <tbody>\n",
       "    <tr>\n",
       "      <th>0</th>\n",
       "      <td>88.642690</td>\n",
       "      <td>BY4743</td>\n",
       "      <td>1 uM Torin 1</td>\n",
       "    </tr>\n",
       "    <tr>\n",
       "      <th>1</th>\n",
       "      <td>84.383101</td>\n",
       "      <td>BY4743</td>\n",
       "      <td>2.5% DMSO</td>\n",
       "    </tr>\n",
       "    <tr>\n",
       "      <th>2</th>\n",
       "      <td>75.622916</td>\n",
       "      <td>DBVPG 6765</td>\n",
       "      <td>1 uM Torin 1</td>\n",
       "    </tr>\n",
       "    <tr>\n",
       "      <th>3</th>\n",
       "      <td>75.872172</td>\n",
       "      <td>DBVPG 6765</td>\n",
       "      <td>2.5% DMSO</td>\n",
       "    </tr>\n",
       "    <tr>\n",
       "      <th>4</th>\n",
       "      <td>83.891908</td>\n",
       "      <td>SK1</td>\n",
       "      <td>1 uM Torin 1</td>\n",
       "    </tr>\n",
       "    <tr>\n",
       "      <th>5</th>\n",
       "      <td>105.568165</td>\n",
       "      <td>SK1</td>\n",
       "      <td>2.5% DMSO</td>\n",
       "    </tr>\n",
       "    <tr>\n",
       "      <th>6</th>\n",
       "      <td>77.611077</td>\n",
       "      <td>Y55</td>\n",
       "      <td>1 uM Torin 1</td>\n",
       "    </tr>\n",
       "    <tr>\n",
       "      <th>7</th>\n",
       "      <td>72.683174</td>\n",
       "      <td>Y55</td>\n",
       "      <td>2.5% DMSO</td>\n",
       "    </tr>\n",
       "    <tr>\n",
       "      <th>8</th>\n",
       "      <td>25.117997</td>\n",
       "      <td>YPS128</td>\n",
       "      <td>1 uM Torin 1</td>\n",
       "    </tr>\n",
       "    <tr>\n",
       "      <th>9</th>\n",
       "      <td>13.931581</td>\n",
       "      <td>YPS128</td>\n",
       "      <td>2.5% DMSO</td>\n",
       "    </tr>\n",
       "    <tr>\n",
       "      <th>10</th>\n",
       "      <td>70.506600</td>\n",
       "      <td>DBVPG 6044</td>\n",
       "      <td>1 uM Torin 1</td>\n",
       "    </tr>\n",
       "    <tr>\n",
       "      <th>11</th>\n",
       "      <td>56.016327</td>\n",
       "      <td>DBVPG 6044</td>\n",
       "      <td>2.5% DMSO</td>\n",
       "    </tr>\n",
       "    <tr>\n",
       "      <th>12</th>\n",
       "      <td>76.077408</td>\n",
       "      <td>DBVPG 1788</td>\n",
       "      <td>1 uM Torin 1</td>\n",
       "    </tr>\n",
       "    <tr>\n",
       "      <th>13</th>\n",
       "      <td>76.460230</td>\n",
       "      <td>DBVPG 1788</td>\n",
       "      <td>2.5% DMSO</td>\n",
       "    </tr>\n",
       "    <tr>\n",
       "      <th>14</th>\n",
       "      <td>77.813421</td>\n",
       "      <td>DBVPG 1373</td>\n",
       "      <td>1 uM Torin 1</td>\n",
       "    </tr>\n",
       "    <tr>\n",
       "      <th>15</th>\n",
       "      <td>54.028027</td>\n",
       "      <td>DBVPG 1373</td>\n",
       "      <td>2.5% DMSO</td>\n",
       "    </tr>\n",
       "    <tr>\n",
       "      <th>16</th>\n",
       "      <td>86.426425</td>\n",
       "      <td>DBVPG 1853</td>\n",
       "      <td>1 uM Torin 1</td>\n",
       "    </tr>\n",
       "    <tr>\n",
       "      <th>17</th>\n",
       "      <td>82.561801</td>\n",
       "      <td>DBVPG 1853</td>\n",
       "      <td>2.5% DMSO</td>\n",
       "    </tr>\n",
       "    <tr>\n",
       "      <th>18</th>\n",
       "      <td>NaN</td>\n",
       "      <td>BC187</td>\n",
       "      <td>1 uM Torin 1</td>\n",
       "    </tr>\n",
       "    <tr>\n",
       "      <th>19</th>\n",
       "      <td>NaN</td>\n",
       "      <td>BC187</td>\n",
       "      <td>2.5% DMSO</td>\n",
       "    </tr>\n",
       "  </tbody>\n",
       "</table>\n",
       "</div>"
      ],
      "text/plain": [
       "    DT inflection      Strain     Treatment\n",
       "0       88.642690      BY4743  1 uM Torin 1\n",
       "1       84.383101      BY4743     2.5% DMSO\n",
       "2       75.622916  DBVPG 6765  1 uM Torin 1\n",
       "3       75.872172  DBVPG 6765     2.5% DMSO\n",
       "4       83.891908         SK1  1 uM Torin 1\n",
       "5      105.568165         SK1     2.5% DMSO\n",
       "6       77.611077         Y55  1 uM Torin 1\n",
       "7       72.683174         Y55     2.5% DMSO\n",
       "8       25.117997      YPS128  1 uM Torin 1\n",
       "9       13.931581      YPS128     2.5% DMSO\n",
       "10      70.506600  DBVPG 6044  1 uM Torin 1\n",
       "11      56.016327  DBVPG 6044     2.5% DMSO\n",
       "12      76.077408  DBVPG 1788  1 uM Torin 1\n",
       "13      76.460230  DBVPG 1788     2.5% DMSO\n",
       "14      77.813421  DBVPG 1373  1 uM Torin 1\n",
       "15      54.028027  DBVPG 1373     2.5% DMSO\n",
       "16      86.426425  DBVPG 1853  1 uM Torin 1\n",
       "17      82.561801  DBVPG 1853     2.5% DMSO\n",
       "18            NaN       BC187  1 uM Torin 1\n",
       "19            NaN       BC187     2.5% DMSO"
      ]
     },
     "execution_count": 3,
     "metadata": {},
     "output_type": "execute_result"
    }
   ],
   "source": [
    "# Select 3 columns from the dataset\n",
    "df = pd.read_csv('./Dataset/Yeast_cell_dataset.csv', usecols = ['DT inflection','Strain', 'Treatment'])\n",
    "print(df.shape)\n",
    "df.head(20)"
   ]
  },
  {
   "cell_type": "markdown",
   "id": "dddff3ae",
   "metadata": {},
   "source": [
    "Now we drop all rows in which Doubling Time Inflection data is not available."
   ]
  },
  {
   "cell_type": "code",
   "execution_count": 4,
   "id": "d95d1a97",
   "metadata": {},
   "outputs": [
    {
     "name": "stdout",
     "output_type": "stream",
     "text": [
      "(2724, 3)\n"
     ]
    },
    {
     "data": {
      "text/html": [
       "<div>\n",
       "<style scoped>\n",
       "    .dataframe tbody tr th:only-of-type {\n",
       "        vertical-align: middle;\n",
       "    }\n",
       "\n",
       "    .dataframe tbody tr th {\n",
       "        vertical-align: top;\n",
       "    }\n",
       "\n",
       "    .dataframe thead th {\n",
       "        text-align: right;\n",
       "    }\n",
       "</style>\n",
       "<table border=\"1\" class=\"dataframe\">\n",
       "  <thead>\n",
       "    <tr style=\"text-align: right;\">\n",
       "      <th></th>\n",
       "      <th>DT inflection</th>\n",
       "      <th>Strain</th>\n",
       "      <th>Treatment</th>\n",
       "    </tr>\n",
       "  </thead>\n",
       "  <tbody>\n",
       "    <tr>\n",
       "      <th>0</th>\n",
       "      <td>88.642690</td>\n",
       "      <td>BY4743</td>\n",
       "      <td>1 uM Torin 1</td>\n",
       "    </tr>\n",
       "    <tr>\n",
       "      <th>1</th>\n",
       "      <td>84.383101</td>\n",
       "      <td>BY4743</td>\n",
       "      <td>2.5% DMSO</td>\n",
       "    </tr>\n",
       "    <tr>\n",
       "      <th>2</th>\n",
       "      <td>75.622916</td>\n",
       "      <td>DBVPG 6765</td>\n",
       "      <td>1 uM Torin 1</td>\n",
       "    </tr>\n",
       "    <tr>\n",
       "      <th>3</th>\n",
       "      <td>75.872172</td>\n",
       "      <td>DBVPG 6765</td>\n",
       "      <td>2.5% DMSO</td>\n",
       "    </tr>\n",
       "    <tr>\n",
       "      <th>4</th>\n",
       "      <td>83.891908</td>\n",
       "      <td>SK1</td>\n",
       "      <td>1 uM Torin 1</td>\n",
       "    </tr>\n",
       "    <tr>\n",
       "      <th>5</th>\n",
       "      <td>105.568165</td>\n",
       "      <td>SK1</td>\n",
       "      <td>2.5% DMSO</td>\n",
       "    </tr>\n",
       "    <tr>\n",
       "      <th>6</th>\n",
       "      <td>77.611077</td>\n",
       "      <td>Y55</td>\n",
       "      <td>1 uM Torin 1</td>\n",
       "    </tr>\n",
       "    <tr>\n",
       "      <th>7</th>\n",
       "      <td>72.683174</td>\n",
       "      <td>Y55</td>\n",
       "      <td>2.5% DMSO</td>\n",
       "    </tr>\n",
       "    <tr>\n",
       "      <th>8</th>\n",
       "      <td>25.117997</td>\n",
       "      <td>YPS128</td>\n",
       "      <td>1 uM Torin 1</td>\n",
       "    </tr>\n",
       "    <tr>\n",
       "      <th>9</th>\n",
       "      <td>13.931581</td>\n",
       "      <td>YPS128</td>\n",
       "      <td>2.5% DMSO</td>\n",
       "    </tr>\n",
       "    <tr>\n",
       "      <th>10</th>\n",
       "      <td>70.506600</td>\n",
       "      <td>DBVPG 6044</td>\n",
       "      <td>1 uM Torin 1</td>\n",
       "    </tr>\n",
       "    <tr>\n",
       "      <th>11</th>\n",
       "      <td>56.016327</td>\n",
       "      <td>DBVPG 6044</td>\n",
       "      <td>2.5% DMSO</td>\n",
       "    </tr>\n",
       "    <tr>\n",
       "      <th>12</th>\n",
       "      <td>76.077408</td>\n",
       "      <td>DBVPG 1788</td>\n",
       "      <td>1 uM Torin 1</td>\n",
       "    </tr>\n",
       "    <tr>\n",
       "      <th>13</th>\n",
       "      <td>76.460230</td>\n",
       "      <td>DBVPG 1788</td>\n",
       "      <td>2.5% DMSO</td>\n",
       "    </tr>\n",
       "    <tr>\n",
       "      <th>14</th>\n",
       "      <td>77.813421</td>\n",
       "      <td>DBVPG 1373</td>\n",
       "      <td>1 uM Torin 1</td>\n",
       "    </tr>\n",
       "    <tr>\n",
       "      <th>15</th>\n",
       "      <td>54.028027</td>\n",
       "      <td>DBVPG 1373</td>\n",
       "      <td>2.5% DMSO</td>\n",
       "    </tr>\n",
       "    <tr>\n",
       "      <th>16</th>\n",
       "      <td>86.426425</td>\n",
       "      <td>DBVPG 1853</td>\n",
       "      <td>1 uM Torin 1</td>\n",
       "    </tr>\n",
       "    <tr>\n",
       "      <th>17</th>\n",
       "      <td>82.561801</td>\n",
       "      <td>DBVPG 1853</td>\n",
       "      <td>2.5% DMSO</td>\n",
       "    </tr>\n",
       "    <tr>\n",
       "      <th>24</th>\n",
       "      <td>69.794101</td>\n",
       "      <td>L-1528</td>\n",
       "      <td>1 uM Torin 1</td>\n",
       "    </tr>\n",
       "    <tr>\n",
       "      <th>25</th>\n",
       "      <td>68.864184</td>\n",
       "      <td>L-1528</td>\n",
       "      <td>2.5% DMSO</td>\n",
       "    </tr>\n",
       "  </tbody>\n",
       "</table>\n",
       "</div>"
      ],
      "text/plain": [
       "    DT inflection      Strain     Treatment\n",
       "0       88.642690      BY4743  1 uM Torin 1\n",
       "1       84.383101      BY4743     2.5% DMSO\n",
       "2       75.622916  DBVPG 6765  1 uM Torin 1\n",
       "3       75.872172  DBVPG 6765     2.5% DMSO\n",
       "4       83.891908         SK1  1 uM Torin 1\n",
       "5      105.568165         SK1     2.5% DMSO\n",
       "6       77.611077         Y55  1 uM Torin 1\n",
       "7       72.683174         Y55     2.5% DMSO\n",
       "8       25.117997      YPS128  1 uM Torin 1\n",
       "9       13.931581      YPS128     2.5% DMSO\n",
       "10      70.506600  DBVPG 6044  1 uM Torin 1\n",
       "11      56.016327  DBVPG 6044     2.5% DMSO\n",
       "12      76.077408  DBVPG 1788  1 uM Torin 1\n",
       "13      76.460230  DBVPG 1788     2.5% DMSO\n",
       "14      77.813421  DBVPG 1373  1 uM Torin 1\n",
       "15      54.028027  DBVPG 1373     2.5% DMSO\n",
       "16      86.426425  DBVPG 1853  1 uM Torin 1\n",
       "17      82.561801  DBVPG 1853     2.5% DMSO\n",
       "24      69.794101      L-1528  1 uM Torin 1\n",
       "25      68.864184      L-1528     2.5% DMSO"
      ]
     },
     "execution_count": 4,
     "metadata": {},
     "output_type": "execute_result"
    }
   ],
   "source": [
    "# Drop empty / NA rows\n",
    "df.dropna(inplace = True)\n",
    "print(df.shape)\n",
    "df.head(20)"
   ]
  },
  {
   "cell_type": "markdown",
   "id": "d3390a3a",
   "metadata": {},
   "source": [
    "Lets view and store all the unique yeast strains we have in our dataset."
   ]
  },
  {
   "cell_type": "code",
   "execution_count": 5,
   "id": "606bd8b2",
   "metadata": {
    "scrolled": true
   },
   "outputs": [
    {
     "name": "stdout",
     "output_type": "stream",
     "text": [
      "(88,)\n",
      "['BY4743' 'DBVPG 6765' 'SK1' 'Y55' 'YPS128' 'DBVPG 6044' 'DBVPG 1788'\n",
      " 'DBVPG 1373' 'DBVPG 1853' 'L-1528' 'Y12' 'DBVPG 1106' 'K11' 'YS4' 'YS9'\n",
      " '322134 S ' '378604 X' '273614 N' 'Y6.5' 'Q62.5' 'Q89.8' 'KPN3828' 'Y9.6'\n",
      " 'Q74.4' 'Q69.8' 'W7' 'Q31.4' 'Y8.5' 'Z1' 'CBS432' 'Y8.1' 'KPN3829'\n",
      " 'UFRJ50791' 'IFO1804' 'UWOPS91-917.1' 'CLIB324' 'PW5' 'UWOPS83-787.3'\n",
      " 'NCYC361' 'W303' 'Y10' 'FM527' 'T21.4' 'Q95.3' 'A4' 'YJM978' 'Y9'\n",
      " 'UWOPS03-461.4 ' 'UWOPS05-217.3 ' 'S288c ' 'UWOPS05-227.2 ' 'DBVPG 6040 '\n",
      " 'YIIc17_E5 ' 'YJM981 ' 'YJM975 ' 'NCYC110 ' 'YS2 ' 'T7' 'FL100' 'UC5'\n",
      " 'T73' 'CLIB215' 'YJM269' 'CLIB382' 'CBS7960' 'FM479' 'BC187' 'YPS606'\n",
      " 'L-1374' 'UWOPS87-2421' 'FM476' 'FM356' 'FM677' 'N-45' 'UFRJ50816' 'N-44'\n",
      " 'N-17' 'Q59.1' 'YPS138' 'S36.7' 'Y7' 'Q32.3' 'Z1.1' 'DBVPG 4650' 'N-43'\n",
      " 'CBS5829' 'DBVPG 6304' 'A12']\n"
     ]
    }
   ],
   "source": [
    "strain = pd.unique(df['Strain'])\n",
    "print(strain.shape)\n",
    "print(strain)"
   ]
  },
  {
   "cell_type": "markdown",
   "id": "a801ea71",
   "metadata": {},
   "source": [
    "Lets view and store all the unique treatments we have in our dataset."
   ]
  },
  {
   "cell_type": "code",
   "execution_count": 6,
   "id": "ae8e5694",
   "metadata": {},
   "outputs": [
    {
     "name": "stdout",
     "output_type": "stream",
     "text": [
      "(10,)\n",
      "['1 uM Torin 1' '2.5% DMSO' '1% DMSO' '20 ng/mL RAPA' '2.5 ng/mL RAPA'\n",
      " '6.67% H2O' '25 uM Torin 1' '100 uM GDC0941' '1 mg/mL Caffeine'\n",
      " '100 uM AZD8055']\n"
     ]
    }
   ],
   "source": [
    "treatment = pd.unique(df['Treatment'])\n",
    "print(treatment.shape)\n",
    "print(treatment)"
   ]
  },
  {
   "cell_type": "markdown",
   "id": "9f887992",
   "metadata": {},
   "source": [
    "**Let's try making a boxplot for the first strain.**"
   ]
  },
  {
   "cell_type": "markdown",
   "id": "236b91bc",
   "metadata": {},
   "source": [
    "We'll start by isolating the data consisiting of the first strain."
   ]
  },
  {
   "cell_type": "code",
   "execution_count": 7,
   "id": "a59c6ac5",
   "metadata": {},
   "outputs": [
    {
     "data": {
      "text/html": [
       "<div>\n",
       "<style scoped>\n",
       "    .dataframe tbody tr th:only-of-type {\n",
       "        vertical-align: middle;\n",
       "    }\n",
       "\n",
       "    .dataframe tbody tr th {\n",
       "        vertical-align: top;\n",
       "    }\n",
       "\n",
       "    .dataframe thead th {\n",
       "        text-align: right;\n",
       "    }\n",
       "</style>\n",
       "<table border=\"1\" class=\"dataframe\">\n",
       "  <thead>\n",
       "    <tr style=\"text-align: right;\">\n",
       "      <th></th>\n",
       "      <th>DT inflection</th>\n",
       "      <th>Strain</th>\n",
       "      <th>Treatment</th>\n",
       "    </tr>\n",
       "  </thead>\n",
       "  <tbody>\n",
       "    <tr>\n",
       "      <th>0</th>\n",
       "      <td>88.642690</td>\n",
       "      <td>BY4743</td>\n",
       "      <td>1 uM Torin 1</td>\n",
       "    </tr>\n",
       "    <tr>\n",
       "      <th>1</th>\n",
       "      <td>84.383101</td>\n",
       "      <td>BY4743</td>\n",
       "      <td>2.5% DMSO</td>\n",
       "    </tr>\n",
       "    <tr>\n",
       "      <th>48</th>\n",
       "      <td>71.956550</td>\n",
       "      <td>BY4743</td>\n",
       "      <td>1% DMSO</td>\n",
       "    </tr>\n",
       "    <tr>\n",
       "      <th>49</th>\n",
       "      <td>260.047128</td>\n",
       "      <td>BY4743</td>\n",
       "      <td>20 ng/mL RAPA</td>\n",
       "    </tr>\n",
       "    <tr>\n",
       "      <th>88</th>\n",
       "      <td>72.520115</td>\n",
       "      <td>BY4743</td>\n",
       "      <td>1 uM Torin 1</td>\n",
       "    </tr>\n",
       "  </tbody>\n",
       "</table>\n",
       "</div>"
      ],
      "text/plain": [
       "    DT inflection  Strain      Treatment\n",
       "0       88.642690  BY4743   1 uM Torin 1\n",
       "1       84.383101  BY4743      2.5% DMSO\n",
       "48      71.956550  BY4743        1% DMSO\n",
       "49     260.047128  BY4743  20 ng/mL RAPA\n",
       "88      72.520115  BY4743   1 uM Torin 1"
      ]
     },
     "execution_count": 7,
     "metadata": {},
     "output_type": "execute_result"
    }
   ],
   "source": [
    "# Store the first strain (strain[0])\n",
    "df_first_strain = df[ df['Strain'] == strain[0] ]\n",
    "df_first_strain.head()"
   ]
  },
  {
   "cell_type": "markdown",
   "id": "0e811f9a",
   "metadata": {},
   "source": [
    "Now lets list the DT inflection for each Treatment in the first strain."
   ]
  },
  {
   "cell_type": "code",
   "execution_count": 34,
   "id": "4acfab5b",
   "metadata": {},
   "outputs": [
    {
     "name": "stdout",
     "output_type": "stream",
     "text": [
      "*** 1 uM Torin 1 ***\n",
      "[88.64268986, 72.52011549, 77.47018168, 80.03388838, 76.64048776, 81.15689808, 80.74565844, 80.94730107, 87.7349638, 79.015773, 75.49194741, 22.44303054, 80.34358737, 66.32216909]\n",
      "*** 2.5% DMSO ***\n",
      "[84.38310148, 75.80880433, 75.54400685, 68.88651677, 77.37977975, 76.33855158, 79.9449928, 81.4684331, 78.64974328, 81.30649542, 79.70570942, 77.20347584, 76.87473325, 80.34060506, 76.48963591, 76.22787514, 76.3039197, 76.97978683, 87.60139813, 81.50895056, 81.05003245, 79.12113992, 61.10590795, 78.24745529, 72.60216312, 77.3352617, 83.71443923, 74.27269104, 77.81167031, 76.87661413, 76.47455606, 75.58075343, 78.21455271, 79.58370045, 80.18053203, 68.57076026]\n",
      "*** 1% DMSO ***\n",
      "[71.95654991, 69.39323588, 71.80068565, 72.75335931, 71.22402774, 76.61181509, 71.55013443, 70.1853122, 73.5992666, 72.78558069, 71.63980236, 76.35258739, 73.85627932, 70.25372001, 74.28980159, 74.23962473, 73.92783866, 77.4941699, 73.74407088, 71.72310359, 68.36150617]\n",
      "*** 20 ng/mL RAPA ***\n",
      "[260.0471278, 317.0612214, 246.9491257, 66.28004822, 103.6058719, 234.1072087, 272.346412]\n",
      "*** 2.5 ng/mL RAPA ***\n",
      "[64.01317505, 78.08836924, 77.56189287, 77.0972575, 71.94150216, 71.63159393, 76.29003941, 70.46324428, 71.08819754, 72.81271758, 74.82885604, 75.45713881, 43.12589491, 70.57886263]\n",
      "*** 6.67% H2O ***\n",
      "[69.92722018, 77.1705138, 69.71011995, 70.35256427, 72.85512477, 70.34488117, 75.46406619, 74.57309463, 75.53751947, 73.99327063, 83.25215305, 79.34417193, 77.88871849, 75.55293237]\n",
      "*** 25 uM Torin 1 ***\n",
      "[108.2408018, 105.4067973, 94.44151429, 89.98694405, 100.8472619, 103.9069329, 92.41205535, 44.68640796, 114.7382829, 120.0914118, 115.4322122]\n",
      "*** 100 uM GDC0941 ***\n",
      "[65.55754295, 83.19825978, 91.80085992, 88.87357694, 79.91878531, 65.67767911, 76.61818923, 89.44596356]\n",
      "*** 1 mg/mL Caffeine ***\n",
      "[90.52431925, 108.3710509, 107.9740816, 100.7380828, 89.01130852, 84.53308824, 107.3318322, 73.66783027, 123.3742339, 115.1637621, 79.86175651, 103.8458238, 113.1736695]\n",
      "*** 100 uM AZD8055 ***\n",
      "[80.65308566, 78.85839261]\n"
     ]
    }
   ],
   "source": [
    "# Store DT inflection of the first strain arranged by treatment\n",
    "first_strain_treatments = [] \n",
    "for i,t in enumerate(treatment):\n",
    "    temp = df_first_strain[ df_first_strain['Treatment'] == t ]\n",
    "    first_strain_treatments.append(temp['DT inflection'].tolist())\n",
    "    print('*** '+ t +' ***')\n",
    "    print(first_strain_treatments[i])"
   ]
  },
  {
   "cell_type": "markdown",
   "id": "9784ef6e",
   "metadata": {},
   "source": [
    "Finally, we can create the boxplot for the first strain."
   ]
  },
  {
   "cell_type": "code",
   "execution_count": 35,
   "id": "2f47bb1e",
   "metadata": {},
   "outputs": [
    {
     "data": {
      "image/png": "[encoded data removed]",
      "text/plain": [
       "<Figure size 720x360 with 1 Axes>"
      ]
     },
     "metadata": {
      "needs_background": "light"
     },
     "output_type": "display_data"
    }
   ],
   "source": [
    "# Set plot size\n",
    "fig = plt.figure(figsize =(10, 5))\n",
    "# Create axes instance\n",
    "ax = fig.add_axes([0, 0, 1, 1])\n",
    "# Create plot\n",
    "bp = ax.boxplot(first_strain_treatments)\n",
    "# Show plot\n",
    "plt.show()"
   ]
  },
  {
   "cell_type": "markdown",
   "id": "b190404a",
   "metadata": {},
   "source": [
    "**Now that we have seen how to create a boxplot for a some data, lets create boxplots for all yeast strains.**"
   ]
  },
  {
   "cell_type": "markdown",
   "id": "687824f7",
   "metadata": {},
   "source": [
    "First, lets define a generic boxplot function with all the labels and color codes set as default."
   ]
  },
  {
   "cell_type": "code",
   "execution_count": 33,
   "id": "fcb08a6e",
   "metadata": {},
   "outputs": [],
   "source": [
    "def yeast_boxplot(selected_strain, treatment_list, strain_name):\n",
    "    \"\"\"\n",
    "    selected_strain -> Data of strain selected arranged by treatment. This is used as raw data to generate the boxplot.\n",
    "    treatment_list -> The list of the treatments in the dataset. This is used for labling the boxplot's x-axis.\n",
    "    strain_name -> The name of the current strain selected. This is used for labling the boxplot's heading.\n",
    "    \n",
    "    \"\"\"\n",
    "    fig, ax1 = plt.subplots(figsize=(10, 6))\n",
    "\n",
    "    bp = ax1.boxplot(selected_strain, notch=False, sym='+', vert=True, whis=1.5)\n",
    "    # plt.setp(bp['fliers'], color='red', marker='+')\n",
    "\n",
    "    # Add a light horizontal grid to the plot\n",
    "    ax1.yaxis.grid(True, linestyle='-', which='major', color='lightgrey', alpha=0.5)\n",
    "\n",
    "    ax1.set(\n",
    "        axisbelow=True,  # Hide the grid behind plot objects\n",
    "        title='Comparison of Treatment and Doubling Time Inflection for the \\''+ strain_name +'\\' Yeast Strain',\n",
    "        xlabel='Treatment',\n",
    "        ylabel='Doubling Time',\n",
    "    )\n",
    "\n",
    "    # Fill the boxes with desired colors\n",
    "    box_colors = ['red', 'royalblue', 'orange', 'lime', 'cyan']\n",
    "    num_boxes = len(selected_strain)\n",
    "    medians = np.empty(num_boxes)\n",
    "    for i in range(num_boxes):\n",
    "        box = bp['boxes'][i]\n",
    "        box_x = []\n",
    "        box_y = []\n",
    "        for j in range(5):\n",
    "            box_x.append(box.get_xdata()[j])\n",
    "            box_y.append(box.get_ydata()[j])\n",
    "        box_coords = np.column_stack([box_x, box_y])\n",
    "        # Alternate between the colors\n",
    "        ax1.add_patch(Polygon(box_coords, facecolor=box_colors[i % len(box_colors)]))\n",
    "\n",
    "        # Now draw the median lines back over what we just filled in\n",
    "        med = bp['medians'][i]\n",
    "        median_x = []\n",
    "        median_y = []\n",
    "        for j in range(2):\n",
    "            median_x.append(med.get_xdata()[j])\n",
    "            median_y.append(med.get_ydata()[j])\n",
    "            ax1.plot(median_x, median_y, 'k')\n",
    "        medians[i] = median_y[0]\n",
    "        # Finally, overplot the sample medians, with horizontal alignment in the center of each box\n",
    "        ax1.plot(np.average(med.get_xdata()), np.average(selected_strain[i]), color='w', marker='*', markeredgecolor='k')\n",
    "\n",
    "    # Set the axes ranges and axes labels\n",
    "    ax1.set_xlim(0.5, num_boxes + 0.5)\n",
    "    top = 40\n",
    "    bottom = -5\n",
    "    # ax1.set_ylim(bottom, top)\n",
    "    ax1.set_xticklabels(treatment_list,rotation=45, fontsize=8)\n",
    "\n",
    "    plt.show()"
   ]
  },
  {
   "cell_type": "markdown",
   "id": "632f5364",
   "metadata": {},
   "source": [
    "Now, lets loop through all the yeast strains in the dataset and create boxplots for each strain. Each boxplot will show the relationship between the treatment applied to that strain and the inflection point to their doubling time."
   ]
  },
  {
   "cell_type": "code",
   "execution_count": 107,
   "id": "470600db",
   "metadata": {
    "scrolled": false
   },
   "outputs": [],
   "source": [
    "for st in strain:\n",
    "    df_selected_strain = df[ df['Strain'] == st ] # Select all rows for the current strain\n",
    "    selected_strain = []\n",
    "    for i,t in enumerate(treatment): \n",
    "        temp = df_selected_strain[ df_selected_strain['Treatment'] == t ] # Select each treatment for the current Strain\n",
    "#         print(temp.values.tolist())\n",
    "        selected_strain.append(temp['DT inflection'].tolist()) # Store Doubling Time for each Treatment for the current Strain\n",
    "\n",
    "#     yeast_boxplot(selected_strain, treatment.tolist(), st)\n",
    "#     print(selected_strain)"
   ]
  },
  {
   "cell_type": "markdown",
   "id": "b2c01a1e",
   "metadata": {},
   "source": [
    "**Clustering treatments by their Doubling Time Inflection values**"
   ]
  },
  {
   "cell_type": "markdown",
   "id": "dded2781",
   "metadata": {},
   "source": [
    "Lets create a scatter plot where we cluster treatments based on their DT Inflection values individually for each strain. We do this do visualize the differences in DT Inflection values caused by different types of treatments."
   ]
  },
  {
   "cell_type": "markdown",
   "id": "c752e2a7",
   "metadata": {},
   "source": [
    "First, lets try the visualization only on the first strain."
   ]
  },
  {
   "cell_type": "code",
   "execution_count": 117,
   "id": "f2174443",
   "metadata": {},
   "outputs": [
    {
     "data": {
      "image/png": "[encoded data removed]",
      "text/plain": [
       "<Figure size 432x288 with 1 Axes>"
      ]
     },
     "metadata": {
      "needs_background": "light"
     },
     "output_type": "display_data"
    }
   ],
   "source": [
    "fig, ax = plt.subplots()\n",
    "color = ['red', 'royalblue', 'cyan', 'orange', 'green', 'yellow', 'lime']\n",
    "get_colors = lambda n: [\"#%06x\" % np.random.randint(0, 0xFFFFFF) for _ in range(n)] # Get a random HEX color\n",
    "colors = get_colors(len(treatment)) # Get a list of random colors\n",
    "\n",
    "for i, fs_st_tr in enumerate(first_strain_treatments):\n",
    "    x = fs_st_tr\n",
    "    y = [i ** 2 for i in x]\n",
    "#     c = np.random.randint(1, 5, size=len(fs_st_tr))\n",
    "#     s = np.random.randint(10, 220, size=N)\n",
    "    c = colors[i]\n",
    "    scatter = ax.scatter(x, y, c=c, s=50, alpha=0.7, label=treatment[i])\n",
    "\n",
    "ax.set_xlabel(r'DT Inflection', fontsize=12)\n",
    "ax.set_ylabel(r'DT Inflection ** 2', fontsize=12)\n",
    "ax.set_title('Treatment scatter plot for the \\''+strain[0]+'\\' strain.', fontsize=13)\n",
    "plt.legend()\n",
    "\n",
    "# ax.grid(True)\n",
    "fig.tight_layout()\n",
    "\n",
    "plt.show()"
   ]
  },
  {
   "cell_type": "markdown",
   "id": "26ec2e09",
   "metadata": {},
   "source": [
    "Now, lets create a scatter plot for the rest of the Yeast strains. To do this, lets first define a generic function that allows to create scatter plots."
   ]
  },
  {
   "cell_type": "code",
   "execution_count": 90,
   "id": "aef02266",
   "metadata": {},
   "outputs": [],
   "source": [
    "def yeast_scatter_plot(strain_treatments, strain):\n",
    "    fig, ax = plt.subplots()\n",
    "    get_colors = lambda n: [\"#%06x\" % np.random.randint(0, 0xFFFFFF) for _ in range(n)] # Get a random HEX color\n",
    "    colors = get_colors(len(treatment)) # Get a list of random colors\n",
    "\n",
    "    for i, st_tr in enumerate(strain_treatments):\n",
    "        x = st_tr\n",
    "        y = [i ** 2 for i in x]\n",
    "        c = colors[i]\n",
    "        scatter = ax.scatter(x, y, c=c, s=50, alpha=0.7, label=treatment[i])\n",
    "\n",
    "    ax.set_xlabel(r'DT Inflection', fontsize=15)\n",
    "    ax.set_ylabel(r'DT Inflection ** 2', fontsize=15)\n",
    "    ax.set_title('Treatment scatter plot for the strain: \\''+ strain +'\\'', fontsize=13)\n",
    "    plt.legend()\n",
    "    plt.show()"
   ]
  },
  {
   "cell_type": "markdown",
   "id": "ba5ceceb",
   "metadata": {},
   "source": [
    "Finally, we can iterate through every strain and create scatter plots for each of them."
   ]
  },
  {
   "cell_type": "code",
   "execution_count": 109,
   "id": "77bc8d2c",
   "metadata": {
    "scrolled": false
   },
   "outputs": [],
   "source": [
    "for st in strain:\n",
    "    df_selected_strain = df[ df['Strain'] == st ] # Select all rows for the current strain\n",
    "    selected_strain = []\n",
    "    for i,t in enumerate(treatment): \n",
    "        temp = df_selected_strain[ df_selected_strain['Treatment'] == t ] # Select each treatment for the current Strain\n",
    "#         print(temp.values.tolist())\n",
    "        selected_strain.append(temp['DT inflection'].tolist()) # Store Doubling Time for each Treatment for the current Strain\n",
    "\n",
    "#     yeast_scatter_plot(selected_strain, st)"
   ]
  },
  {
   "cell_type": "code",
   "execution_count": null,
   "id": "1d8a1044",
   "metadata": {},
   "outputs": [],
   "source": []
  }
 ],
 "metadata": {
  "kernelspec": {
   "display_name": "Python 3 (ipykernel)",
   "language": "python",
   "name": "python3"
  },
  "language_info": {
   "codemirror_mode": {
    "name": "ipython",
    "version": 3
   },
   "file_extension": ".py",
   "mimetype": "text/x-python",
   "name": "python",
   "nbconvert_exporter": "python",
   "pygments_lexer": "ipython3",
   "version": "3.10.6"
  }
 },
 "nbformat": 4,
 "nbformat_minor": 5
}
